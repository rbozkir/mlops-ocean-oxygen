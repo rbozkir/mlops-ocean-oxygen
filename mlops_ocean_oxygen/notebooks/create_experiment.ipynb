{
 "cells": [
  {
   "cell_type": "code",
   "execution_count": 4,
   "id": "761b2161",
   "metadata": {},
   "outputs": [
    {
     "data": {
      "text/plain": [
       "True"
      ]
     },
     "execution_count": 4,
     "metadata": {},
     "output_type": "execute_result"
    }
   ],
   "source": [
    "import os\n",
    "import sys\n",
    "\n",
    "sys.path.append(os.path.join('../src'))\n",
    "\n",
    "from dotenv import load_dotenv\n",
    "load_dotenv(\"../env\")"
   ]
  },
  {
   "cell_type": "code",
   "execution_count": 5,
   "id": "cfc94f8e",
   "metadata": {},
   "outputs": [],
   "source": [
    "from mlops import ensure_experiment_exists"
   ]
  },
  {
   "cell_type": "code",
   "execution_count": 6,
   "id": "329913d7",
   "metadata": {},
   "outputs": [
    {
     "name": "stdout",
     "output_type": "stream",
     "text": [
      "Experiment 'Ocean Oxygen Saturation' already exists. ID: 1\n"
     ]
    }
   ],
   "source": [
    "experiment = ensure_experiment_exists(experiment_name=\"Ocean Oxygen Saturation\")"
   ]
  },
  {
   "cell_type": "code",
   "execution_count": 7,
   "id": "6e0b6623",
   "metadata": {},
   "outputs": [
    {
     "data": {
      "text/plain": [
       "'Ocean Oxygen Saturation'"
      ]
     },
     "execution_count": 7,
     "metadata": {},
     "output_type": "execute_result"
    }
   ],
   "source": [
    "experiment.name"
   ]
  },
  {
   "cell_type": "code",
   "execution_count": 9,
   "id": "90ee95e3",
   "metadata": {},
   "outputs": [
    {
     "data": {
      "text/plain": [
       "'1'"
      ]
     },
     "execution_count": 9,
     "metadata": {},
     "output_type": "execute_result"
    }
   ],
   "source": [
    "experiment.experiment_id"
   ]
  },
  {
   "cell_type": "code",
   "execution_count": null,
   "id": "b22c0413-38f0-4eb6-a066-f4d522995a2e",
   "metadata": {},
   "outputs": [],
   "source": []
  }
 ],
 "metadata": {
  "kernelspec": {
   "display_name": "ramazanbozkir",
   "language": "python",
   "name": "ramazanbozkir"
  },
  "language_info": {
   "codemirror_mode": {
    "name": "ipython",
    "version": 3
   },
   "file_extension": ".py",
   "mimetype": "text/x-python",
   "name": "python",
   "nbconvert_exporter": "python",
   "pygments_lexer": "ipython3",
   "version": "3.10.12"
  }
 },
 "nbformat": 4,
 "nbformat_minor": 5
}
